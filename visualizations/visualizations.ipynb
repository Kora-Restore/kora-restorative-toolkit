{
 "cells": [
  {
   "cell_type": "markdown",
   "id": "85d0d7e1",
   "metadata": {},
   "source": [
    "# 📊 Kōra: Peace & Wellbeing Index Visualization\n",
    "This notebook shows basic visualizations of the PWI for ancient civilizations."
   ]
  },
  {
   "cell_type": "code",
   "execution_count": null,
   "id": "367e47e4",
   "metadata": {},
   "outputs": [],
   "source": [
    "import pandas as pd\n",
    "import matplotlib.pyplot as plt\n",
    "\n",
    "# Load data\n",
    "file_path = 'data/ancient.csv'\n",
    "df = pd.read_csv(file_path)\n",
    "\n",
    "# Calculate VI, SEWI, and PWI\n",
    "df['VI'] = df['Conflicts_per_century'] * df['Deaths_per_conflict']\n",
    "df['SEWI'] = (df['BHW'] + df['EF'] + df['ES']) / 3\n",
    "df['PWI'] = df['SEWI'] / df['VI']\n",
    "df['PWI_scaled'] = df['PWI'] * 1000\n",
    "df_sorted = df.sort_values(by='PWI_scaled', ascending=False)\n",
    "df_sorted"
   ]
  },
  {
   "cell_type": "markdown",
   "id": "408cdf55",
   "metadata": {},
   "source": [
    "## 📈 Bar Chart: PWI (scaled) by Civilization"
   ]
  },
  {
   "cell_type": "code",
   "execution_count": null,
   "id": "066aed21",
   "metadata": {},
   "outputs": [],
   "source": [
    "plt.figure(figsize=(10,6))\n",
    "plt.barh(df_sorted['Civilization'], df_sorted['PWI_scaled'], color='skyblue')\n",
    "plt.xlabel('PWI (scaled x1000)')\n",
    "plt.title('Peace & Wellbeing Index by Civilization')\n",
    "plt.gca().invert_yaxis()\n",
    "plt.grid(axis='x', linestyle='--', alpha=0.7)\n",
    "plt.tight_layout()\n",
    "plt.show()"
   ]
  },
  {
   "cell_type": "markdown",
   "id": "5c145d0f",
   "metadata": {},
   "source": [
    "## 📊 Scatter Plot: VI vs SEWI"
   ]
  },
  {
   "cell_type": "code",
   "execution_count": null,
   "id": "e0b8760c",
   "metadata": {},
   "outputs": [],
   "source": [
    "plt.figure(figsize=(8,6))\n",
    "plt.scatter(df['VI'], df['SEWI'], s=100, c='green')\n",
    "for i in range(len(df)):\n",
    "    plt.text(df['VI'][i]+100, df['SEWI'][i], df['Civilization'][i], fontsize=9)\n",
    "plt.xlabel('Violence Index (VI)')\n",
    "plt.ylabel('Sustainable & Equitable Wellbeing Index (SEWI)')\n",
    "plt.title('SEWI vs VI')\n",
    "plt.grid(True)\n",
    "plt.tight_layout()\n",
    "plt.show()"
   ]
  }
 ],
 "metadata": {},
 "nbformat": 4,
 "nbformat_minor": 5
}
