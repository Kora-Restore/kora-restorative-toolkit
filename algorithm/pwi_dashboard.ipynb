{
 "cells": [
  {
   "cell_type": "markdown",
   "id": "5fee97e5",
   "metadata": {},
   "source": [
    "# 🌍 Peace & Wellbeing Index (PWI) Dashboard\n",
    "This notebook visualizes the evolution of peace, violence, and sustainability across human history, using data from the Kōra Restorative Toolkit project.\n",
    "We'll analyze the Peace & Wellbeing Index (PWI) across Ancient, Medieval, Early Modern, Modern, and Forecasted societies."
   ]
  },
  {
   "cell_type": "code",
   "execution_count": null,
   "id": "2c70926b",
   "metadata": {},
   "outputs": [],
   "source": [
    "import pandas as pd\n",
    "import matplotlib.pyplot as plt\n",
    "import seaborn as sns\n",
    "sns.set(style='whitegrid')"
   ]
  },
  {
   "cell_type": "code",
   "execution_count": null,
   "id": "f2f17acb",
   "metadata": {},
   "outputs": [],
   "source": [
    "# Load all datasets\n",
    "ancient = pd.read_csv('data/ancient.csv')\n",
    "medieval = pd.read_csv('data/medieval.csv')\n",
    "early_modern = pd.read_csv('data/early_modern.csv')\n",
    "modern = pd.read_csv('data/modern.csv')\n",
    "forecast = pd.read_csv('data/forecast_model.csv')\n",
    "\n",
    "# Add era labels\n",
    "ancient['Era'] = 'Ancient'\n",
    "medieval['Era'] = 'Medieval'\n",
    "early_modern['Era'] = 'Early Modern'\n",
    "modern['Era'] = 'Modern'\n",
    "forecast['Era'] = 'Forecast'\n",
    "\n",
    "# Combine\n",
    "df = pd.concat([ancient, medieval, early_modern, modern, forecast], ignore_index=True)"
   ]
  },
  {
   "cell_type": "code",
   "execution_count": null,
   "id": "b602c8de",
   "metadata": {},
   "outputs": [],
   "source": [
    "# Compute indicators\n",
    "df['VI'] = df['Conflicts_per_century'] * df['Deaths_per_conflict']\n",
    "df['SEWI'] = (df['BHW'] + df['EF'] + df['ES']) / 3\n",
    "df['PWI'] = df['SEWI'] / df['VI']\n",
    "df_sorted = df.sort_values(by='PWI', ascending=False)\n",
    "df_sorted[['Civilization', 'Era', 'PWI', 'SEWI', 'VI']]"
   ]
  },
  {
   "cell_type": "code",
   "execution_count": null,
   "id": "f6c53925",
   "metadata": {},
   "outputs": [],
   "source": [
    "# Visual 1: Distribution of PWI by Era\n",
    "plt.figure(figsize=(10,6))\n",
    "sns.boxplot(x='Era', y='PWI', data=df)\n",
    "plt.title('PWI Distribution by Era')\n",
    "plt.xticks(rotation=45)\n",
    "plt.show()"
   ]
  },
  {
   "cell_type": "code",
   "execution_count": null,
   "id": "accc94a1",
   "metadata": {},
   "outputs": [],
   "source": [
    "# Visual 2: Top 10 Civilizations by PWI\n",
    "top10 = df.sort_values(by='PWI', ascending=False).head(10)\n",
    "plt.figure(figsize=(10,6))\n",
    "sns.barplot(x='PWI', y='Civilization', data=top10, hue='Era', dodge=False)\n",
    "plt.title('Top 10 Civilizations by PWI')\n",
    "plt.show()"
   ]
  },
  {
   "cell_type": "code",
   "execution_count": null,
   "id": "4763dfee",
   "metadata": {},
   "outputs": [],
   "source": [
    "# Visual 3: SEWI vs VI\n",
    "plt.figure(figsize=(8,6))\n",
    "sns.scatterplot(x='VI', y='SEWI', hue='Era', data=df, s=100)\n",
    "plt.title('Sustainable & Equitable Wellbeing (SEWI) vs Violence Index (VI)')\n",
    "plt.xlabel('Violence Index (VI)')\n",
    "plt.ylabel('SEWI')\n",
    "plt.xscale('log')\n",
    "plt.grid(True)\n",
    "plt.show()"
   ]
  },
  {
   "cell_type": "markdown",
   "id": "6aa46c80",
   "metadata": {},
   "source": [
    "## 🔍 Reflection\n",
    "- Civilizations with **lower conflict frequency and severity** consistently achieve higher PWI.\n",
    "- Some modern industrial societies have improved wellbeing, but at the cost of ecological sustainability.\n",
    "- Forecasted demilitarized models show enormous potential for peace if we collectively shift priorities.\n",
    "\n",
    "Explore the raw data, adjust weights, or simulate other futures to expand the model."
   ]
  }
 ],
 "metadata": {},
 "nbformat": 4,
 "nbformat_minor": 5
}
